{
 "cells": [
  {
   "cell_type": "code",
   "execution_count": null,
   "metadata": {
    "collapsed": true,
    "deletable": true,
    "editable": true
   },
   "outputs": [],
   "source": [
    "import os\n",
    "import datetime as dt\n",
    "import glob\n",
    "import numpy as np\n",
    "from bs4 import BeautifulSoup\n",
    "from lxml import html\n",
    "import lxml\n",
    "import re\n",
    "import time\n",
    "import pandas as pd\n",
    "from selenium import webdriver\n",
    "from selenium.common.exceptions import TimeoutException\n",
    "from selenium.webdriver.support.ui import WebDriverWait  # available since 2.4.0\n",
    "\n",
    "def set_download_path(my_path):\n",
    "    download_path = my_path\n",
    "    if not os.path.exists(download_path):\n",
    "        os.makedirs(download_path, exist_ok=True)\n",
    "    return download_path\n",
    "\n",
    "def save_source_code(html_source, path, filename):\n",
    "    source_code = html_source\n",
    "    f = open(path + '/' + filename, 'wb')\n",
    "    f.write(source_code.encode('utf-8'))\n",
    "    f.close()\n",
    "\n",
    "def find_hrefs_by_regex(bs, reg_exp):\n",
    "    all_items = bs.find_all(\"a\", href=re.compile(reg_exp))\n",
    "    return all_items\n",
    "\n",
    "def create_absolute_urls(base_url, rel_links):\n",
    "    links = []\n",
    "    for link in rel_links:\n",
    "        if 'href' in link.attrs:\n",
    "            links.append(base_url + link.attrs['href'])\n",
    "    return list(set(links))\n",
    "\n",
    "def fix_avg_age(input_str):\n",
    "    age = str(input_str)\n",
    "    fixed_age = float(age[:-1] + '.' + age[-1:])\n",
    "    return fixed_age\n",
    "\n",
    "data_list = []\n",
    "\n",
    "# set download path\n",
    "download_path = set_download_path('/Users/matthewmurray/ds/metis/metisgh/premier_league/transfermarkt/pages/squad_lists')\n",
    "\n",
    "# load each saved html file and store in bs object\n",
    "file_path = download_path + '/*.html'\n",
    "file_list = glob.glob(file_path)\n"
   ]
  },
  {
   "cell_type": "code",
   "execution_count": null,
   "metadata": {
    "collapsed": false,
    "deletable": true,
    "editable": true
   },
   "outputs": [],
   "source": [
    "for f in file_list:\n",
    "    base = os.path.basename(f)\n",
    "    file_name = os.path.splitext(base)[0]\n",
    "\n",
    "    with open(f, \"r\") as f:\n",
    "        page = f.read()\n",
    "        bs = BeautifulSoup(page, \"lxml\")\n",
    "        bs_tables = bs.find('table', class_='items')\n",
    "        df = pd.read_html(str(bs_tables))[0]\n",
    "        \n",
    "        season_1 = file_name[:4]\n",
    "        season_2 = int(file_name[2:4])+1\n",
    "        if season_2 == 100:\n",
    "            season_2 = '00'\n",
    "        elif season_2 < 10:\n",
    "            season_2 = '0' + str(season_2)\n",
    "        season_name = str(season_1) + '-' + str(season_2)\n",
    "        \n",
    "        season1 = file_name[:4]\n",
    "        team_name = file_name[5:].replace('-', ' ').title()\n",
    "        \n",
    "        data = df['Market value'].dropna()\n",
    "        data = data.map(lambda x: x.replace('-','None'))\n",
    "        to_drop = ['None']\n",
    "        data = data[~data.isin(to_drop)]\n",
    "        df = pd.DataFrame(data)\n",
    "        df.columns = ['DATE_JOINED']\n",
    "        season_st_date = dt.datetime(int(season1)+1, 5, 1)\n",
    "        season_st_date\n",
    "        df['SEASON_END_DATE'] = season_st_date\n",
    "        df['DATE_JOINED'] =  pd.to_datetime(df['DATE_JOINED'])\n",
    "        df['DAYS_AT_TEAM'] = df['SEASON_END_DATE'] - df['DATE_JOINED']\n",
    "        avg_days = df['DAYS_AT_TEAM'].mean()\n",
    "        ans = (avg_days / np.timedelta64(1, 'D')).astype(int) / 365\n",
    "        avg_time = float(\"%.1f\" % ans)\n",
    "\n",
    "        # create tuple of (team, season, avg_time)\n",
    "        tup = (team_name, season_name, avg_time)\n",
    "        data_list.append(tup)"
   ]
  },
  {
   "cell_type": "code",
   "execution_count": null,
   "metadata": {
    "collapsed": false,
    "deletable": true,
    "editable": true
   },
   "outputs": [],
   "source": [
    "cleaned_df = pd.DataFrame(data_list)"
   ]
  },
  {
   "cell_type": "code",
   "execution_count": null,
   "metadata": {
    "collapsed": false,
    "deletable": true,
    "editable": true
   },
   "outputs": [],
   "source": [
    "cleaned_df.columns = ['TEAM','SEASON','AVG_TIME']"
   ]
  },
  {
   "cell_type": "code",
   "execution_count": null,
   "metadata": {
    "collapsed": false,
    "deletable": true,
    "editable": true
   },
   "outputs": [],
   "source": [
    "cleaned_df.to_csv('data/team_continuity.csv', index=None)"
   ]
  }
 ],
 "metadata": {
  "kernelspec": {
   "display_name": "Python 3",
   "language": "python",
   "name": "python3"
  },
  "language_info": {
   "codemirror_mode": {
    "name": "ipython",
    "version": 3
   },
   "file_extension": ".py",
   "mimetype": "text/x-python",
   "name": "python",
   "nbconvert_exporter": "python",
   "pygments_lexer": "ipython3",
   "version": "3.6.0"
  }
 },
 "nbformat": 4,
 "nbformat_minor": 2
}
